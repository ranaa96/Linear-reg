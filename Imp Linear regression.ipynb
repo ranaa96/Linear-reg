{
 "cells": [
  {
   "cell_type": "code",
   "execution_count": 19,
   "metadata": {},
   "outputs": [],
   "source": [
    "import numpy as np\n",
    "import pandas as pd\n",
    "import seaborn as sns\n",
    "\n",
    "#Least Squares method\n",
    "up = 0\n",
    "down = 0\n",
    "\n",
    "mean_x = np.mean(X)\n",
    "mean_y = np.mean(Y)\n",
    "\n",
    "for i in range(len(X)):\n",
    "    up += (X[i] - mean_x) * (Y[i] - mean_y)\n",
    "    down += (X[i] - mean_x) ** 2\n",
    "m = up / down\n",
    "c = mean_y - (m * mean_x)\n"
   ]
  },
  {
   "cell_type": "code",
   "execution_count": 14,
   "metadata": {},
   "outputs": [
    {
     "name": "stdout",
     "output_type": "stream",
     "text": [
      "(506, 15)\n",
      "Coefficients of Intercept: 34.5538408793831\n",
      "Coefficients of lstat : -0.9500493537579907\n"
     ]
    }
   ],
   "source": [
    "import csv\n",
    "my_data = pd.read_csv('Desktop\\Boston.csv')\n",
    "print(my_data.shape)\n",
    "my_data.head()\n",
    "X = my_data ['lstat'].values\n",
    "Y = my_data ['medv'].values\n",
    "\n",
    "print(\"Coefficients of Intercept:\", m)\n",
    "print(\"Coefficients of lstat :\", c)\n",
    "\n"
   ]
  },
  {
   "cell_type": "code",
   "execution_count": null,
   "metadata": {},
   "outputs": [],
   "source": []
  },
  {
   "cell_type": "code",
   "execution_count": null,
   "metadata": {},
   "outputs": [],
   "source": []
  }
 ],
 "metadata": {
  "kernelspec": {
   "display_name": "Python 3",
   "language": "python",
   "name": "python3"
  },
  "language_info": {
   "codemirror_mode": {
    "name": "ipython",
    "version": 3
   },
   "file_extension": ".py",
   "mimetype": "text/x-python",
   "name": "python",
   "nbconvert_exporter": "python",
   "pygments_lexer": "ipython3",
   "version": "3.7.0"
  }
 },
 "nbformat": 4,
 "nbformat_minor": 2
}
